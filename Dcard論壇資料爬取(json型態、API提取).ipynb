{
 "cells": [
  {
   "cell_type": "code",
   "execution_count": 6,
   "metadata": {},
   "outputs": [],
   "source": [
    "import requests, json\n",
    "import matplotlib.pyplot as plt\n",
    "#匯入 matplotlib 函式庫底下的 pyploy 函式，並且將其命名為plt"
   ]
  },
  {
   "cell_type": "code",
   "execution_count": 8,
   "metadata": {},
   "outputs": [],
   "source": [
    "url = 'https://www.dcard.tw/service/api/v2/forums/2019_ncov/posts?popular=true&limit=30'\n",
    "#將所欲爬取api網址放入等號左邊url變數存放\n",
    "\n",
    "res = requests.get(url)\n",
    "#透過requests.get()請求上述網址內容，並且將它放入等號左邊的res變數存放\n",
    "resjson = json.loads(res.text)\n",
    "#藉由json.loads()載入上述請求完成的text內容，並且將它放入等號左邊的resjson變數存放"
   ]
  },
  {
   "cell_type": "code",
   "execution_count": 9,
   "metadata": {},
   "outputs": [
    {
     "data": {
      "text/plain": [
       "[{'id': 232982492,\n",
       "  'title': '#公告 武漢肺炎專板設立',\n",
       "  'excerpt': '各位卡友好，為了讓大家更好查找、討論疫情資訊，特別設立「武漢肺炎」臨時專板，歡迎卡友多加利用。本看板為討論武漢肺炎防疫知識、疫情最新情報及相關新聞之專區。惟請注意板規第一條：嚴禁散佈任何未經證實的消息',\n",
       "  'anonymousSchool': False,\n",
       "  'anonymousDepartment': False,\n",
       "  'pinned': True,\n",
       "  'forumId': '8cb36269-9d1a-4044-962a-e45126b8dbda',\n",
       "  'replyId': None,\n",
       "  'createdAt': '2020-01-30T05:31:31.649Z',\n",
       "  'updatedAt': '2020-12-08T05:16:12.340Z',\n",
       "  'commentCount': 198,\n",
       "  'likeCount': 2997,\n",
       "  'withNickname': True,\n",
       "  'tags': [],\n",
       "  'topics': ['武漢肺炎'],\n",
       "  'meta': {'layout': 'classic'},\n",
       "  'forumName': '武漢肺炎',\n",
       "  'forumAlias': '2019_ncov',\n",
       "  'nsfw': False,\n",
       "  'gender': 'D',\n",
       "  'school': '板務小天使',\n",
       "  'department': 'community',\n",
       "  'replyTitle': None,\n",
       "  'mediaMeta': [],\n",
       "  'reactions': [{'id': '286f599c-f86a-4932-82f0-f5a06f1eca03', 'count': 2962},\n",
       "   {'id': '4b018f48-e184-445f-adf1-fc8e04ba09b9', 'count': 14},\n",
       "   {'id': 'e8e6bc5d-41b0-4129-b134-97507523d7ff', 'count': 14},\n",
       "   {'id': '011ead16-9b83-4729-9fde-c588920c6c2d', 'count': 4},\n",
       "   {'id': 'aa0d425f-d530-4478-9a77-fe3aedc79eea', 'count': 2},\n",
       "   {'id': '514c2569-fd53-4d9d-a415-bf0f88e7329f', 'count': 1}],\n",
       "  'hidden': False,\n",
       "  'customStyle': None,\n",
       "  'isSuspiciousAccount': False,\n",
       "  'isModerator': False,\n",
       "  'layout': 'classic',\n",
       "  'pinnedType': 'dcard',\n",
       "  'pinnedPriority': 1582772069000,\n",
       "  'spoilerAlert': False,\n",
       "  'withImages': False,\n",
       "  'withVideos': False,\n",
       "  'media': [],\n",
       "  'reportReasonText': '',\n",
       "  'excerptComments': [],\n",
       "  'postAvatar': '',\n",
       "  'verifiedBadge': True},\n",
       " {'id': 235533347,\n",
       "  'title': '今日境外+6 本土+0',\n",
       "  'excerpt': '中央流行疫情指揮中心今（12）日公布國內新增6例境外移入COVID-19確定病例，分別自美國（案980）、菲律賓（案981、984、985）、法國（案982）及英國（案983）入境。指揮中心表示，案9',\n",
       "  'anonymousSchool': False,\n",
       "  'anonymousDepartment': False,\n",
       "  'pinned': False,\n",
       "  'forumId': '8cb36269-9d1a-4044-962a-e45126b8dbda',\n",
       "  'replyId': None,\n",
       "  'createdAt': '2021-03-12T06:34:41.457Z',\n",
       "  'updatedAt': '2021-03-12T06:34:41.457Z',\n",
       "  'commentCount': 3,\n",
       "  'likeCount': 13,\n",
       "  'withNickname': False,\n",
       "  'tags': ['HIDE_THUMBNAIL'],\n",
       "  'topics': ['本土', '武漢肺炎', '防疫'],\n",
       "  'meta': {'layout': 'classic'},\n",
       "  'forumName': '武漢肺炎',\n",
       "  'forumAlias': '2019_ncov',\n",
       "  'nsfw': False,\n",
       "  'gender': 'M',\n",
       "  'school': '國立成功大學',\n",
       "  'department': '電機工程學系',\n",
       "  'replyTitle': None,\n",
       "  'mediaMeta': [],\n",
       "  'reactions': [{'id': '286f599c-f86a-4932-82f0-f5a06f1eca03', 'count': 13}],\n",
       "  'hidden': False,\n",
       "  'customStyle': None,\n",
       "  'isSuspiciousAccount': False,\n",
       "  'isModerator': False,\n",
       "  'layout': 'classic',\n",
       "  'spoilerAlert': False,\n",
       "  'withImages': False,\n",
       "  'withVideos': False,\n",
       "  'media': [],\n",
       "  'reportReasonText': '',\n",
       "  'excerptComments': [],\n",
       "  'postAvatar': '',\n",
       "  'verifiedBadge': False},\n",
       " {'id': 235539693,\n",
       "  'title': '效能高 30 倍！長庚大學攜手國防醫學院用「紫蘇抗新冠」',\n",
       "  'excerpt': '為開發更有效的抗疫產品，長庚大學與國防醫學院攜手組成抗新冠病毒藥物研發團隊，發現紫蘇有足以媲美瑞德西韋的效果，已完成研究專利申請，近期更針對紫蘇水萃液精進製程，開發可提升 30 倍抗新冠病毒的效能產品',\n",
       "  'anonymousSchool': False,\n",
       "  'anonymousDepartment': True,\n",
       "  'pinned': False,\n",
       "  'forumId': '8cb36269-9d1a-4044-962a-e45126b8dbda',\n",
       "  'replyId': None,\n",
       "  'createdAt': '2021-03-13T05:35:03.181Z',\n",
       "  'updatedAt': '2021-03-13T05:35:03.181Z',\n",
       "  'commentCount': 0,\n",
       "  'likeCount': 12,\n",
       "  'withNickname': False,\n",
       "  'tags': ['HIDE_THUMBNAIL'],\n",
       "  'topics': ['國防醫學院', '長庚大學', '武漢肺炎', '台灣', '疫情'],\n",
       "  'meta': {'layout': 'classic'},\n",
       "  'forumName': '武漢肺炎',\n",
       "  'forumAlias': '2019_ncov',\n",
       "  'nsfw': False,\n",
       "  'gender': 'M',\n",
       "  'school': '國立宜蘭大學',\n",
       "  'replyTitle': None,\n",
       "  'mediaMeta': [],\n",
       "  'reactions': [{'id': '286f599c-f86a-4932-82f0-f5a06f1eca03', 'count': 12}],\n",
       "  'hidden': False,\n",
       "  'customStyle': None,\n",
       "  'isSuspiciousAccount': False,\n",
       "  'isModerator': False,\n",
       "  'layout': 'classic',\n",
       "  'spoilerAlert': False,\n",
       "  'withImages': False,\n",
       "  'withVideos': False,\n",
       "  'media': [],\n",
       "  'reportReasonText': '',\n",
       "  'excerptComments': [],\n",
       "  'postAvatar': '',\n",
       "  'verifiedBadge': False},\n",
       " {'id': 235535709,\n",
       "  'title': '國際奧委會稱買中國疫苗 日方震驚：事前不知情｜@新聞精選【新唐人亞太電視】三節新聞Live直播\\u200b ｜20210312',\n",
       "  'excerpt': '【新唐人亞太台 2021 年 03 月 12 日訊】國際奧委會（IOC）主席巴赫11日宣布，將購買中國的COVID-19疫苗，給今年東京奧運和帕運以及2022北京冬奧的參賽者。對此，日方代表的東奧執行',\n",
       "  'anonymousSchool': False,\n",
       "  'anonymousDepartment': True,\n",
       "  'pinned': False,\n",
       "  'forumId': '8cb36269-9d1a-4044-962a-e45126b8dbda',\n",
       "  'replyId': None,\n",
       "  'createdAt': '2021-03-12T12:54:33.282Z',\n",
       "  'updatedAt': '2021-03-12T12:54:33.282Z',\n",
       "  'commentCount': 0,\n",
       "  'likeCount': 10,\n",
       "  'withNickname': False,\n",
       "  'tags': [],\n",
       "  'topics': ['武漢肺炎', '中共病毒疫苗', '東京奧運', '中共特色大國戰疫', '中共特色之為人民服務'],\n",
       "  'meta': {'layout': 'classic'},\n",
       "  'forumName': '武漢肺炎',\n",
       "  'forumAlias': '2019_ncov',\n",
       "  'nsfw': False,\n",
       "  'gender': 'M',\n",
       "  'school': '中原大學',\n",
       "  'replyTitle': None,\n",
       "  'mediaMeta': [{'id': '11b4b61f-0ffb-49ae-a07e-b2af0307922d',\n",
       "    'url': 'https://img.youtube.com/vi/qn2AQ6e80eo/hqdefault.jpg',\n",
       "    'normalizedUrl': 'https://img.youtube.com/vi/qn2AQ6e80eo/hqdefault.jpg',\n",
       "    'thumbnail': 'https://img.youtube.com/vi/qn2AQ6e80eo/hqdefault.jpg',\n",
       "    'type': 'image/thumbnail',\n",
       "    'tags': [],\n",
       "    'createdAt': '2021-03-12T12:54:33.282Z',\n",
       "    'updatedAt': '2021-03-12T12:54:33.282Z'},\n",
       "   {'id': '11b4b61f-0ffb-49ae-a07e-b2af0307922d',\n",
       "    'url': 'https://www.youtube.com/watch?v=qn2AQ6e80eo',\n",
       "    'normalizedUrl': 'https://www.youtube.com/watch?v=qn2AQ6e80eo',\n",
       "    'thumbnail': 'https://img.youtube.com/vi/qn2AQ6e80eo/hqdefault.jpg',\n",
       "    'type': 'video/youtube',\n",
       "    'tags': [],\n",
       "    'createdAt': '2021-03-12T12:54:33.282Z',\n",
       "    'updatedAt': '2021-03-12T12:54:33.282Z'},\n",
       "   {'id': '385a1f66-6760-4ea9-afa5-8f9728bcc427',\n",
       "    'url': 'https://i.imgur.com/GUjW5sK.jpg',\n",
       "    'normalizedUrl': 'https://imgur.com/GUjW5sK',\n",
       "    'thumbnail': 'https://i.imgur.com/GUjW5sKl.jpg',\n",
       "    'type': 'image/imgur',\n",
       "    'tags': [],\n",
       "    'createdAt': '2021-03-12T12:54:33.282Z',\n",
       "    'updatedAt': '2021-03-12T12:54:33.282Z',\n",
       "    'width': 593,\n",
       "    'height': 342},\n",
       "   {'id': 'e9535cab-e18f-46a7-ba46-a6aff0378649',\n",
       "    'url': 'https://i.imgur.com/mUi9Vn9.jpg',\n",
       "    'normalizedUrl': 'https://imgur.com/mUi9Vn9',\n",
       "    'thumbnail': 'https://i.imgur.com/mUi9Vn9l.jpg',\n",
       "    'type': 'image/imgur',\n",
       "    'tags': [],\n",
       "    'createdAt': '2021-03-12T12:54:33.282Z',\n",
       "    'updatedAt': '2021-03-12T12:54:33.282Z',\n",
       "    'width': 494,\n",
       "    'height': 306}],\n",
       "  'reactions': [{'id': '286f599c-f86a-4932-82f0-f5a06f1eca03', 'count': 10}],\n",
       "  'hidden': False,\n",
       "  'customStyle': None,\n",
       "  'isSuspiciousAccount': False,\n",
       "  'isModerator': False,\n",
       "  'layout': 'classic',\n",
       "  'spoilerAlert': False,\n",
       "  'withImages': True,\n",
       "  'withVideos': False,\n",
       "  'media': [{'url': 'https://i.imgur.com/GUjW5sK.jpg'},\n",
       "   {'url': 'https://i.imgur.com/mUi9Vn9.jpg'}],\n",
       "  'reportReasonText': '',\n",
       "  'excerptComments': [],\n",
       "  'postAvatar': '',\n",
       "  'verifiedBadge': False},\n",
       " {'id': 235540032,\n",
       "  'title': '透氣性佳的口罩？',\n",
       "  'excerpt': '請問有沒有推薦的透氣性佳的口罩？紙口罩的透氣性好嗎？因為戴口罩容易長痘痘，而且很熱。',\n",
       "  'anonymousSchool': False,\n",
       "  'anonymousDepartment': False,\n",
       "  'pinned': False,\n",
       "  'forumId': '8cb36269-9d1a-4044-962a-e45126b8dbda',\n",
       "  'replyId': None,\n",
       "  'createdAt': '2021-03-13T06:45:18.254Z',\n",
       "  'updatedAt': '2021-03-13T06:45:18.254Z',\n",
       "  'commentCount': 0,\n",
       "  'likeCount': 6,\n",
       "  'withNickname': True,\n",
       "  'tags': ['HIDE_THUMBNAIL'],\n",
       "  'topics': ['口罩'],\n",
       "  'meta': {'layout': 'classic'},\n",
       "  'forumName': '武漢肺炎',\n",
       "  'forumAlias': '2019_ncov',\n",
       "  'nsfw': False,\n",
       "  'gender': 'F',\n",
       "  'school': '女の子',\n",
       "  'department': 'cute88888',\n",
       "  'replyTitle': None,\n",
       "  'mediaMeta': [],\n",
       "  'reactions': [{'id': '286f599c-f86a-4932-82f0-f5a06f1eca03', 'count': 6}],\n",
       "  'hidden': False,\n",
       "  'customStyle': None,\n",
       "  'isSuspiciousAccount': False,\n",
       "  'isModerator': False,\n",
       "  'layout': 'classic',\n",
       "  'spoilerAlert': False,\n",
       "  'withImages': False,\n",
       "  'withVideos': False,\n",
       "  'media': [],\n",
       "  'reportReasonText': '',\n",
       "  'excerptComments': [],\n",
       "  'postAvatar': '',\n",
       "  'verifiedBadge': False},\n",
       " {'id': 235540572,\n",
       "  'title': '在英國接種AZ疫苗記錄！',\n",
       "  'excerpt': '［如有不當請移除，謝謝］，想說NHS都叫我打疫苗了，那我就記錄一下我的心路歷程，給大家一個參考打AZ疫苗會變得怎麼樣️，目前距離施打已經過了40小時，副作用只剩針口位輕微腫脹',\n",
       "  'anonymousSchool': False,\n",
       "  'anonymousDepartment': False,\n",
       "  'pinned': False,\n",
       "  'forumId': '8cb36269-9d1a-4044-962a-e45126b8dbda',\n",
       "  'replyId': None,\n",
       "  'createdAt': '2021-03-13T08:33:34.488Z',\n",
       "  'updatedAt': '2021-03-13T08:33:34.488Z',\n",
       "  'commentCount': 0,\n",
       "  'likeCount': 1,\n",
       "  'withNickname': False,\n",
       "  'tags': [],\n",
       "  'topics': ['疫苗', 'AZ', '武漢肺炎'],\n",
       "  'meta': {'layout': 'link'},\n",
       "  'forumName': '武漢肺炎',\n",
       "  'forumAlias': '2019_ncov',\n",
       "  'nsfw': False,\n",
       "  'gender': 'F',\n",
       "  'school': '香港大學',\n",
       "  'department': '精神醫學系',\n",
       "  'replyTitle': None,\n",
       "  'mediaMeta': [{'id': 'a22d539e-1202-4e82-bb93-9e4a6a93739d',\n",
       "    'url': 'https://img.youtube.com/vi/qATdabH697w/hqdefault.jpg',\n",
       "    'normalizedUrl': 'https://img.youtube.com/vi/qATdabH697w/hqdefault.jpg',\n",
       "    'thumbnail': 'https://img.youtube.com/vi/qATdabH697w/hqdefault.jpg',\n",
       "    'type': 'image/thumbnail',\n",
       "    'tags': ['ANNOTATED'],\n",
       "    'createdAt': '2021-03-13T08:33:34.488Z',\n",
       "    'updatedAt': '2021-03-13T08:33:34.488Z'},\n",
       "   {'id': 'a22d539e-1202-4e82-bb93-9e4a6a93739d',\n",
       "    'url': 'https://youtu.be/qATdabH697w',\n",
       "    'normalizedUrl': 'https://www.youtube.com/watch?v=qATdabH697w',\n",
       "    'thumbnail': 'https://img.youtube.com/vi/qATdabH697w/hqdefault.jpg',\n",
       "    'type': 'video/youtube',\n",
       "    'tags': ['ANNOTATED'],\n",
       "    'createdAt': '2021-03-13T08:33:34.488Z',\n",
       "    'updatedAt': '2021-03-13T08:33:34.488Z'}],\n",
       "  'reactions': [{'id': '286f599c-f86a-4932-82f0-f5a06f1eca03', 'count': 1}],\n",
       "  'hidden': False,\n",
       "  'customStyle': {'label': {'bgColor': '#CCCCCC', 'text': '連結分享'}},\n",
       "  'isSuspiciousAccount': False,\n",
       "  'isModerator': False,\n",
       "  'layout': 'link',\n",
       "  'spoilerAlert': False,\n",
       "  'link': 'https://youtu.be/qATdabH697w',\n",
       "  'withImages': False,\n",
       "  'withVideos': False,\n",
       "  'media': [],\n",
       "  'reportReasonText': '',\n",
       "  'excerptComments': [],\n",
       "  'postAvatar': '',\n",
       "  'verifiedBadge': False}]"
      ]
     },
     "execution_count": 9,
     "metadata": {},
     "output_type": "execute_result"
    }
   ],
   "source": [
    "resjson"
   ]
  },
  {
   "cell_type": "code",
   "execution_count": 10,
   "metadata": {},
   "outputs": [],
   "source": [
    "gender_count = {'F':0, 'M':0, 'D':0}\n",
    "#自製一個含有F與M欄位的json型態資料gender_count，F與M的初始直皆設為0。\n",
    "#此json型態資料可視為計數器，用來對應api中的F與M發生次數。"
   ]
  },
  {
   "cell_type": "code",
   "execution_count": 11,
   "metadata": {},
   "outputs": [],
   "source": [
    "#從resjson基底資料中，透過迴圈每次提取一筆當下的outcome['gender']，\n",
    "#若outcome['gender'] = 'M'，將它+1以後覆蓋等號左邊的上一狀態'M'值。\n",
    "#而若outcome['gender'] = 'F'，同樣將它+1以後覆蓋等號左邊的上一狀態'F'值。\n",
    "for outcome in resjson:\n",
    "    gender_count[outcome['gender']] = gender_count[outcome['gender']]+1"
   ]
  },
  {
   "cell_type": "code",
   "execution_count": 12,
   "metadata": {},
   "outputs": [
    {
     "data": {
      "text/plain": [
       "3"
      ]
     },
     "execution_count": 12,
     "metadata": {},
     "output_type": "execute_result"
    }
   ],
   "source": [
    "gender_count['M']"
   ]
  },
  {
   "cell_type": "code",
   "execution_count": 13,
   "metadata": {},
   "outputs": [
    {
     "data": {
      "text/plain": [
       "2"
      ]
     },
     "execution_count": 13,
     "metadata": {},
     "output_type": "execute_result"
    }
   ],
   "source": [
    "gender_count['F']"
   ]
  },
  {
   "cell_type": "code",
   "execution_count": 14,
   "metadata": {},
   "outputs": [],
   "source": [
    "sex = ['女性','男性']\n",
    "#手動設計一個list型態資料，內有兩個元素(及女性及男性)\n",
    "#此用途為提供後續作圖時所需要顯示的資料欄位名稱"
   ]
  },
  {
   "cell_type": "code",
   "execution_count": 15,
   "metadata": {},
   "outputs": [],
   "source": [
    "total = [gender_count['F'],gender_count['M']]\n",
    "#當迴圈執行完畢，表示所有資料皆以遍歷完畢，最終將結果放入等號左邊的total變數存放"
   ]
  },
  {
   "cell_type": "code",
   "execution_count": 18,
   "metadata": {},
   "outputs": [],
   "source": [
    "plt.rcParams['font.sans-serif'] = ['DFKai-SB']\n",
    "#由於pyplot在預設情況下中文資料會出現亂碼，故透過rcParams來設定能夠支援的中文字型\n",
    "#若上述['SimHei']無法正常顯示表示電腦缺乏該字型，此時可改成['DFKai-SB']字型或其他字型來代替"
   ]
  },
  {
   "cell_type": "code",
   "execution_count": 19,
   "metadata": {},
   "outputs": [
    {
     "data": {
      "text/plain": [
       "<BarContainer object of 2 artists>"
      ]
     },
     "execution_count": 19,
     "metadata": {},
     "output_type": "execute_result"
    },
    {
     "data": {
      "image/png": "[encoded data removed]",
      "text/plain": [
       "<Figure size 432x288 with 1 Axes>"
      ]
     },
     "metadata": {
      "needs_background": "light"
     },
     "output_type": "display_data"
    }
   ],
   "source": [
    "plt.bar(sex, total)\n",
    "#透過plt底下的bar()函式來繪製長條圖，其中括號內第一個參數為x軸資料欄位名稱\n",
    "#第二個參數則是資料數值列"
   ]
  },
  {
   "cell_type": "code",
   "execution_count": null,
   "metadata": {},
   "outputs": [],
   "source": []
  }
 ],
 "metadata": {
  "kernelspec": {
   "display_name": "Python 3",
   "language": "python",
   "name": "python3"
  },
  "language_info": {
   "codemirror_mode": {
    "name": "ipython",
    "version": 3
   },
   "file_extension": ".py",
   "mimetype": "text/x-python",
   "name": "python",
   "nbconvert_exporter": "python",
   "pygments_lexer": "ipython3",
   "version": "3.8.5"
  }
 },
 "nbformat": 4,
 "nbformat_minor": 4
}
