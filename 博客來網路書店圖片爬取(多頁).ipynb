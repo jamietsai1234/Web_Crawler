{
 "cells": [
  {
   "cell_type": "code",
   "execution_count": 1,
   "metadata": {},
   "outputs": [],
   "source": [
    "import requests #匯入函式庫\n",
    "from bs4 import BeautifulSoup #大倉庫匯bs4入小倉庫BeautifulSoup\n",
    "import shutil #檔案下載與儲存的函式庫\n",
    "\n",
    "for page in range(1,3):#跑2次\n",
    "    url = 'https://www.books.com.tw/web/sys_bbotm/books/020806/?o=1&page=x'\n",
    "    url = url.replace('x',str(page))#前者替換為後者 page是每次迴圈提取資料 str是強制轉換為文字型態(以這個例子只跑1、2 兩次)\n",
    "    res = requests.get(url)\n",
    "    soup = BeautifulSoup(res.text, 'html.parser')\n",
    "    \n",
    "    for pictures in soup.select('.cover'):\n",
    "        fname = pictures['src'].split('/')[-1].split('&')[0] #取得圖檔名稱\n",
    "        res2 = requests.get(pictures['src'].split('i=')[1].split('&')[0],stream=True)#在下載時保持連線的狀態防止看得到檔名卻沒有內容\n",
    "        pics = open(fname, 'wb')#將取得的圖檔名稱寫入電腦資料夾 w為write b為binary\n",
    "        shutil.copyfileobj(res2.raw, pics)#用到shutil函式庫的方法，第一個對象是來源，第二個對象是目的，從來源複製到目的\n",
    "        pics.close()#有open一定要有close"
   ]
  },
  {
   "cell_type": "code",
   "execution_count": null,
   "metadata": {},
   "outputs": [],
   "source": []
  }
 ],
 "metadata": {
  "kernelspec": {
   "display_name": "Python 3",
   "language": "python",
   "name": "python3"
  },
  "language_info": {
   "codemirror_mode": {
    "name": "ipython",
    "version": 3
   },
   "file_extension": ".py",
   "mimetype": "text/x-python",
   "name": "python",
   "nbconvert_exporter": "python",
   "pygments_lexer": "ipython3",
   "version": "3.8.5"
  }
 },
 "nbformat": 4,
 "nbformat_minor": 4
}
